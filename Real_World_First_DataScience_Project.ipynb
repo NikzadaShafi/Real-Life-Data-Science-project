{
  "nbformat": 4,
  "nbformat_minor": 0,
  "metadata": {
    "colab": {
      "provenance": [],
      "authorship_tag": "ABX9TyPPeAdCWWmkWhC1kW8ErxSQ",
      "include_colab_link": true
    },
    "kernelspec": {
      "name": "python3",
      "display_name": "Python 3"
    },
    "language_info": {
      "name": "python"
    }
  },
  "cells": [
    {
      "cell_type": "markdown",
      "metadata": {
        "id": "view-in-github",
        "colab_type": "text"
      },
      "source": [
        "<a href=\"https://colab.research.google.com/github/NikzadaShafi/Real-Life-Data-Science-project/blob/main/Real_World_First_DataScience_Project.ipynb\" target=\"_parent\"><img src=\"https://colab.research.google.com/assets/colab-badge.svg\" alt=\"Open In Colab\"/></a>"
      ]
    },
    {
      "cell_type": "markdown",
      "source": [
        " **This is my first real life Data Science Project\n",
        "I will use a source code and Youtube video to follow\n",
        "the instruction on how to work with the data and answer\n",
        "some questions.**"
      ],
      "metadata": {
        "id": "6FGrv8wcFCMO"
      }
    },
    {
      "cell_type": "code",
      "source": [
        "import pandas as pd\n",
        "import os\n",
        "import numpy as np\n",
        "import matplotlib.pyplot as plt"
      ],
      "metadata": {
        "id": "7cCeYjsRBVun"
      },
      "execution_count": null,
      "outputs": []
    },
    {
      "cell_type": "code",
      "execution_count": null,
      "metadata": {
        "id": "UX2MNyt9EV-Q"
      },
      "outputs": [],
      "source": [
        "# To bring the data from a github repository\n",
        "!git clone https://github.com/KeithGalli/Pandas-Data-Science-Tasks.git"
      ]
    },
    {
      "cell_type": "code",
      "source": [
        "list_file = os.listdir('/content/Pandas-Data-Science-Tasks/SalesAnalysis/Sales_Data')"
      ],
      "metadata": {
        "id": "AGVxV8RTJkfE"
      },
      "execution_count": null,
      "outputs": []
    },
    {
      "cell_type": "code",
      "source": [
        "# Merge the whole data \n",
        "Whole_data = pd.DataFrame()\n",
        "for data in list_file:\n",
        "  data_ = pd.read_csv('/content/Pandas-Data-Science-Tasks/SalesAnalysis/Sales_Data/'+ data)\n",
        "  Whole_data = pd.concat([Whole_data,data_]) "
      ],
      "metadata": {
        "id": "njHvFuUEG3HJ"
      },
      "execution_count": null,
      "outputs": []
    },
    {
      "cell_type": "code",
      "source": [
        "# Sort the data based on the order\n",
        "Whole_data = Whole_data.sort_values(by=['Order ID'])\n",
        "# Clean data from NaN values\n",
        "Whole_data = Whole_data.dropna(how='all')"
      ],
      "metadata": {
        "id": "_fZ1w8gfQiYP"
      },
      "execution_count": null,
      "outputs": []
    },
    {
      "cell_type": "markdown",
      "source": [
        "**Question1: What was the best month for sales? how much was earned that month**"
      ],
      "metadata": {
        "id": "K_Z71ILCb25W"
      }
    },
    {
      "cell_type": "code",
      "source": [
        "# Further data cleaning, the data still contains unwanted values\n",
        "Whole_data.drop(Whole_data[Whole_data['Order Date'] == 'Order Date'].index, inplace = True)"
      ],
      "metadata": {
        "id": "_ueiTvzdKkva"
      },
      "execution_count": null,
      "outputs": []
    },
    {
      "cell_type": "code",
      "source": [
        "# Create a new column from the first two character of Order Date (to extract month only)\n",
        "Whole_data['Months'] = Whole_data['Order Date'].str[0:2]\n",
        "# Convert str to int\n",
        "Whole_data['Months'] = Whole_data['Months'].astype('int32')\n",
        "Whole_data.head(5)\n"
      ],
      "metadata": {
        "id": "DAohaPY8cFy4",
        "colab": {
          "base_uri": "https://localhost:8080/",
          "height": 206
        },
        "outputId": "35157639-3ccc-42b4-ae2b-7b8159c4759a"
      },
      "execution_count": null,
      "outputs": [
        {
          "output_type": "execute_result",
          "data": {
            "text/plain": [
              "  Order ID                   Product Quantity Ordered Price Each  \\\n",
              "0   141234                    iPhone                1        700   \n",
              "1   141235  Lightning Charging Cable                1      14.95   \n",
              "2   141236          Wired Headphones                2      11.99   \n",
              "3   141237          27in FHD Monitor                1     149.99   \n",
              "4   141238          Wired Headphones                1      11.99   \n",
              "\n",
              "       Order Date                       Purchase Address  Months  \n",
              "0  01/22/19 21:25        944 Walnut St, Boston, MA 02215       1  \n",
              "1  01/28/19 14:15       185 Maple St, Portland, OR 97035       1  \n",
              "2  01/17/19 13:33  538 Adams St, San Francisco, CA 94016       1  \n",
              "3  01/05/19 20:33     738 10th St, Los Angeles, CA 90001       1  \n",
              "4  01/25/19 11:59          387 10th St, Austin, TX 73301       1  "
            ],
            "text/html": [
              "\n",
              "  <div id=\"df-371de184-ba2c-4c7a-a6bb-0fb4ed3cc5ed\">\n",
              "    <div class=\"colab-df-container\">\n",
              "      <div>\n",
              "<style scoped>\n",
              "    .dataframe tbody tr th:only-of-type {\n",
              "        vertical-align: middle;\n",
              "    }\n",
              "\n",
              "    .dataframe tbody tr th {\n",
              "        vertical-align: top;\n",
              "    }\n",
              "\n",
              "    .dataframe thead th {\n",
              "        text-align: right;\n",
              "    }\n",
              "</style>\n",
              "<table border=\"1\" class=\"dataframe\">\n",
              "  <thead>\n",
              "    <tr style=\"text-align: right;\">\n",
              "      <th></th>\n",
              "      <th>Order ID</th>\n",
              "      <th>Product</th>\n",
              "      <th>Quantity Ordered</th>\n",
              "      <th>Price Each</th>\n",
              "      <th>Order Date</th>\n",
              "      <th>Purchase Address</th>\n",
              "      <th>Months</th>\n",
              "    </tr>\n",
              "  </thead>\n",
              "  <tbody>\n",
              "    <tr>\n",
              "      <th>0</th>\n",
              "      <td>141234</td>\n",
              "      <td>iPhone</td>\n",
              "      <td>1</td>\n",
              "      <td>700</td>\n",
              "      <td>01/22/19 21:25</td>\n",
              "      <td>944 Walnut St, Boston, MA 02215</td>\n",
              "      <td>1</td>\n",
              "    </tr>\n",
              "    <tr>\n",
              "      <th>1</th>\n",
              "      <td>141235</td>\n",
              "      <td>Lightning Charging Cable</td>\n",
              "      <td>1</td>\n",
              "      <td>14.95</td>\n",
              "      <td>01/28/19 14:15</td>\n",
              "      <td>185 Maple St, Portland, OR 97035</td>\n",
              "      <td>1</td>\n",
              "    </tr>\n",
              "    <tr>\n",
              "      <th>2</th>\n",
              "      <td>141236</td>\n",
              "      <td>Wired Headphones</td>\n",
              "      <td>2</td>\n",
              "      <td>11.99</td>\n",
              "      <td>01/17/19 13:33</td>\n",
              "      <td>538 Adams St, San Francisco, CA 94016</td>\n",
              "      <td>1</td>\n",
              "    </tr>\n",
              "    <tr>\n",
              "      <th>3</th>\n",
              "      <td>141237</td>\n",
              "      <td>27in FHD Monitor</td>\n",
              "      <td>1</td>\n",
              "      <td>149.99</td>\n",
              "      <td>01/05/19 20:33</td>\n",
              "      <td>738 10th St, Los Angeles, CA 90001</td>\n",
              "      <td>1</td>\n",
              "    </tr>\n",
              "    <tr>\n",
              "      <th>4</th>\n",
              "      <td>141238</td>\n",
              "      <td>Wired Headphones</td>\n",
              "      <td>1</td>\n",
              "      <td>11.99</td>\n",
              "      <td>01/25/19 11:59</td>\n",
              "      <td>387 10th St, Austin, TX 73301</td>\n",
              "      <td>1</td>\n",
              "    </tr>\n",
              "  </tbody>\n",
              "</table>\n",
              "</div>\n",
              "      <button class=\"colab-df-convert\" onclick=\"convertToInteractive('df-371de184-ba2c-4c7a-a6bb-0fb4ed3cc5ed')\"\n",
              "              title=\"Convert this dataframe to an interactive table.\"\n",
              "              style=\"display:none;\">\n",
              "        \n",
              "  <svg xmlns=\"http://www.w3.org/2000/svg\" height=\"24px\"viewBox=\"0 0 24 24\"\n",
              "       width=\"24px\">\n",
              "    <path d=\"M0 0h24v24H0V0z\" fill=\"none\"/>\n",
              "    <path d=\"M18.56 5.44l.94 2.06.94-2.06 2.06-.94-2.06-.94-.94-2.06-.94 2.06-2.06.94zm-11 1L8.5 8.5l.94-2.06 2.06-.94-2.06-.94L8.5 2.5l-.94 2.06-2.06.94zm10 10l.94 2.06.94-2.06 2.06-.94-2.06-.94-.94-2.06-.94 2.06-2.06.94z\"/><path d=\"M17.41 7.96l-1.37-1.37c-.4-.4-.92-.59-1.43-.59-.52 0-1.04.2-1.43.59L10.3 9.45l-7.72 7.72c-.78.78-.78 2.05 0 2.83L4 21.41c.39.39.9.59 1.41.59.51 0 1.02-.2 1.41-.59l7.78-7.78 2.81-2.81c.8-.78.8-2.07 0-2.86zM5.41 20L4 18.59l7.72-7.72 1.47 1.35L5.41 20z\"/>\n",
              "  </svg>\n",
              "      </button>\n",
              "      \n",
              "  <style>\n",
              "    .colab-df-container {\n",
              "      display:flex;\n",
              "      flex-wrap:wrap;\n",
              "      gap: 12px;\n",
              "    }\n",
              "\n",
              "    .colab-df-convert {\n",
              "      background-color: #E8F0FE;\n",
              "      border: none;\n",
              "      border-radius: 50%;\n",
              "      cursor: pointer;\n",
              "      display: none;\n",
              "      fill: #1967D2;\n",
              "      height: 32px;\n",
              "      padding: 0 0 0 0;\n",
              "      width: 32px;\n",
              "    }\n",
              "\n",
              "    .colab-df-convert:hover {\n",
              "      background-color: #E2EBFA;\n",
              "      box-shadow: 0px 1px 2px rgba(60, 64, 67, 0.3), 0px 1px 3px 1px rgba(60, 64, 67, 0.15);\n",
              "      fill: #174EA6;\n",
              "    }\n",
              "\n",
              "    [theme=dark] .colab-df-convert {\n",
              "      background-color: #3B4455;\n",
              "      fill: #D2E3FC;\n",
              "    }\n",
              "\n",
              "    [theme=dark] .colab-df-convert:hover {\n",
              "      background-color: #434B5C;\n",
              "      box-shadow: 0px 1px 3px 1px rgba(0, 0, 0, 0.15);\n",
              "      filter: drop-shadow(0px 1px 2px rgba(0, 0, 0, 0.3));\n",
              "      fill: #FFFFFF;\n",
              "    }\n",
              "  </style>\n",
              "\n",
              "      <script>\n",
              "        const buttonEl =\n",
              "          document.querySelector('#df-371de184-ba2c-4c7a-a6bb-0fb4ed3cc5ed button.colab-df-convert');\n",
              "        buttonEl.style.display =\n",
              "          google.colab.kernel.accessAllowed ? 'block' : 'none';\n",
              "\n",
              "        async function convertToInteractive(key) {\n",
              "          const element = document.querySelector('#df-371de184-ba2c-4c7a-a6bb-0fb4ed3cc5ed');\n",
              "          const dataTable =\n",
              "            await google.colab.kernel.invokeFunction('convertToInteractive',\n",
              "                                                     [key], {});\n",
              "          if (!dataTable) return;\n",
              "\n",
              "          const docLinkHtml = 'Like what you see? Visit the ' +\n",
              "            '<a target=\"_blank\" href=https://colab.research.google.com/notebooks/data_table.ipynb>data table notebook</a>'\n",
              "            + ' to learn more about interactive tables.';\n",
              "          element.innerHTML = '';\n",
              "          dataTable['output_type'] = 'display_data';\n",
              "          await google.colab.output.renderOutput(dataTable, element);\n",
              "          const docLink = document.createElement('div');\n",
              "          docLink.innerHTML = docLinkHtml;\n",
              "          element.appendChild(docLink);\n",
              "        }\n",
              "      </script>\n",
              "    </div>\n",
              "  </div>\n",
              "  "
            ]
          },
          "metadata": {},
          "execution_count": 7
        }
      ]
    },
    {
      "cell_type": "code",
      "source": [
        "# Create a new column by multiplying quantity and price\n",
        "Whole_data['Quantity Ordered'] = pd.to_numeric(Whole_data['Quantity Ordered'])\n",
        "Whole_data['Price Each'] = pd.to_numeric(Whole_data['Price Each'])\n",
        "Whole_data['Total_price'] = Whole_data['Quantity Ordered'] * Whole_data['Price Each']"
      ],
      "metadata": {
        "id": "9xFY-WqqVtm8"
      },
      "execution_count": null,
      "outputs": []
    },
    {
      "cell_type": "code",
      "source": [
        "results = Whole_data.groupby('Months').sum()"
      ],
      "metadata": {
        "id": "W12cOBsRX6U9"
      },
      "execution_count": null,
      "outputs": []
    },
    {
      "cell_type": "code",
      "source": [
        "# Creating a bar plot to see\n",
        "months = range(1,13)\n",
        "plt.bar(months, results['Total_price'])\n",
        "plt.xticks(months)\n",
        "plt.xlabel('Months')\n",
        "plt.ylabel('Sales ($)')\n",
        "\n",
        "# After plotting the data, format the labels\n",
        "current_values = plt.gca().get_yticks()\n",
        "# Using format string '{:.0f}' here but you can choose others\n",
        "plt.gca().set_yticklabels(['{:,.0f}'.format(x) for x in current_values])\n",
        "plt.show()"
      ],
      "metadata": {
        "colab": {
          "base_uri": "https://localhost:8080/",
          "height": 314
        },
        "id": "9B5CVeclaw0e",
        "outputId": "7d6bf52d-d14a-4238-e897-9ff4b868fe56"
      },
      "execution_count": null,
      "outputs": [
        {
          "output_type": "stream",
          "name": "stderr",
          "text": [
            "<ipython-input-11-2677f4464907>:11: UserWarning: FixedFormatter should only be used together with FixedLocator\n",
            "  plt.gca().set_yticklabels(['{:,.0f}'.format(x) for x in current_values])\n"
          ]
        },
        {
          "output_type": "display_data",
          "data": {
            "text/plain": [
              "<Figure size 432x288 with 1 Axes>"
            ],
            "image/png": "[encoded data removed]"
          },
          "metadata": {
            "needs_background": "light"
          }
        }
      ]
    },
    {
      "cell_type": "markdown",
      "source": [
        "**Question2: What city had the highest number of sales**"
      ],
      "metadata": {
        "id": "Sk8IhoAoFL2p"
      }
    },
    {
      "cell_type": "code",
      "source": [],
      "metadata": {
        "id": "24-GK0vgFQKW"
      },
      "execution_count": null,
      "outputs": []
    }
  ]
}